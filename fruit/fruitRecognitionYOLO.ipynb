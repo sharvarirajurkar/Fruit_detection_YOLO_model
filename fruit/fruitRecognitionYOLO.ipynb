!mkdir -p ~/.kaggle
!cp kaggle.json ~/.kaggle/
!chmod 600 ~/.kaggle/kaggle.json

# Check Kaggle API works
!kaggle datasets list
import os
from zipfile import ZipFile

# Dataset directory
dataset_dir = "/content/dataset"
os.makedirs(dataset_dir, exist_ok=True)

# Download dataset from Kaggle
!kaggle datasets download -d enddl22/deepnir-11fruits -p {dataset_dir}

# Unzip dataset
zip_path = os.path.join(dataset_dir, "deepnir-11fruits.zip")
with ZipFile(zip_path, 'r') as zip_ref:
    zip_ref.extractall(dataset_dir)

print("Dataset downloaded and extracted to:", dataset_dir)
# Install ultralytics (YOLOv8)
!pip install ultralytics -U

# Verify installation
from ultralytics import YOLO
print("YOLOv8 installed successfully")
!mkdir -p ~/.kaggle
!cp kaggle.json ~/.kaggle/
!chmod 600 ~/.kaggle/kaggle.json
#Create a dataset folder and download the dataset
dataset_dir="/content/dataset"
!mkdir -p {dataset_dir}

!kaggle datasets download -d enddl22/deepnir-11fruits -p {dataset_dir}
!ls -l {dataset_dir}
import zipfile
import os

zip_path = os.path.join(dataset_dir, "deepnir-11fruits.zip")
with zipfile.ZipFile(zip_path, 'r') as zip_ref:
    zip_ref.extractall(dataset_dir)

# Confirm extraction
!ls -l {dataset_dir}

dataset_dir = "/content"  # your folders are directly here
yaml_path = os.path.join(dataset_dir, "data.yaml")


data_yaml = f"""
train: {dataset_dir}/images/train
val: {dataset_dir}/images/val

nc: 11
names: ['apple', 'avocado', 'blueberry', 'capsicum', 'cherry', 'kiwi', 'mango', 'orange', 'rockmelon', 'strawberry', 'wheat']
"""

with open(yaml_path, 'w') as f:
    f.write(data_yaml)

print(f"data.yaml created at {yaml_path}")
from google.colab import drive
drive.mount('/content/drive')# Install YOLOv8 and unzip if needed
!pip install -U ultralytics
!apt-get install unzip
import zipfile
import os

dataset_zip = "/content/dataset/deepnir-11fruits.zip"
extract_dir = "/content/images"

os.makedirs(extract_dir, exist_ok=True)

with zipfile.ZipFile(dataset_zip, 'r') as zip_ref:
    zip_ref.extractall(extract_dir)

print(f"Dataset extracted to {extract_dir}")
import os
import shutil
import random

base_dir = "/content/dataset"
train_dir = os.path.join(base_dir, "train")
val_dir = os.path.join(base_dir, "val")
os.makedirs(train_dir, exist_ok=True)
os.makedirs(val_dir, exist_ok=True)

split_ratio = 0.8

fruits = [f for f in os.listdir(base_dir) if os.path.isdir(os.path.join(base_dir, f)) and f not in ["train", "val"]]

for fruit in fruits:
    images_path = os.path.join(base_dir, fruit, "test", "images")
    labels_path = os.path.join(base_dir, fruit, "test", "labels")

    image_files = [f for f in os.listdir(images_path) if f.endswith(('.jpg', '.png'))]
    random.shuffle(image_files)
    split_idx = int(len(image_files) * split_ratio)

    # Create train/val fruit folders
    os.makedirs(os.path.join(train_dir, fruit, "images"), exist_ok=True)
    os.makedirs(os.path.join(train_dir, fruit, "labels"), exist_ok=True)
    os.makedirs(os.path.join(val_dir, fruit, "images"), exist_ok=True)
    os.makedirs(os.path.join(val_dir, fruit, "labels"), exist_ok=True)

    # Move train files
    for img in image_files[:split_idx]:
        shutil.move(os.path.join(images_path, img), os.path.join(train_dir, fruit, "images", img))
        lbl = img.replace(".jpg", ".txt").replace(".png", ".txt")
        shutil.move(os.path.join(labels_path, lbl), os.path.join(train_dir, fruit, "labels", lbl))

    # Move val files
    for img in image_files[split_idx:]:
        shutil.move(os.path.join(images_path, img), os.path.join(val_dir, fruit, "images", img))
        lbl = img.replace(".jpg", ".txt").replace(".png", ".txt")
        shutil.move(os.path.join(labels_path, lbl), os.path.join(val_dir, fruit, "labels", lbl))
import os

yaml_path = "/content/dataset/data.yaml"

data_yaml = f"""
train: /content/dataset/train
val: /content/dataset/val

nc: 11
names: ['apple', 'avocado', 'blueberry', 'capsicum', 'cherry', 'kiwi', 'mango', 'orange', 'rockmelon', 'strawberry', 'wheat']
"""

with open(yaml_path, 'w') as f:
    f.write(data_yaml)

print(f"data.yaml created at {yaml_path}")
!ls /content/dataset/train/apple/images | head
!ls /content/dataset/train/apple/labels | head
# Install ultralytics (YOLOv8)
!pip install ultralytics --upgrade

# Import YOLO
from ultralytics import YOLO

# Path to data.yaml
data_yaml = "/content/dataset/data.yaml"

# Load YOLOv8 model (you can start with nano or small for faster training)
model = YOLO("yolov8n.pt")  # 'n' = nano, lightweight model

# Train the model
model.train(
    data=data_yaml,   # path to data.yaml
    epochs=50,        # number of training epochs
    imgsz=640,        # image size
    batch=16,         # batch size
    project="YOLOv8-fruits",  # folder where results will be saved
    name="fruits-exp"          # experiment name
)
from ultralytics import YOLO

# Load your trained weights
model = YOLO("/content/YOLOv8-fruits/fruits-exp/weights/best.pt")  # replace path if different

# Predict on a single image
img_path = "/content/dataset/apple/train/images/1237_png.rf.50a0b5b9fc636957f09e329412a3c4f5.jpg"
results = model.predict(img_path)

# Access the first result and show it
results[0].show()  # or save it with results[0].save()
val_images = "/content/dataset/kiwi/train/images"

results = model.predict(val_images, conf=0.5, save=True)  # saves output in runs/predict

for r in results:
    print("Image path:", r.path)
    print("Detected boxes:", r.boxes.xyxy)   # [x1, y1, x2, y2]
    print("Confidence scores:", r.boxes.conf)
    print("Class IDs:", r.boxes.cls)
metrics = model.val()  # runs validation and prints metrics like mAP, precision, recall
print(metrics)
